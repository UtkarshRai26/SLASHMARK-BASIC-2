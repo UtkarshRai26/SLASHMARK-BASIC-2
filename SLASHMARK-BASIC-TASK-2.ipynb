{
 "cells": [
  {
   "cell_type": "code",
   "execution_count": 1,
   "id": "d6079995",
   "metadata": {},
   "outputs": [
    {
     "name": "stdout",
     "output_type": "stream",
     "text": [
      "Welcome to the Number Guessing Game!\n",
      "I have selected a random number between 1 and 100. Try to guess it!\n",
      "\n",
      "Enter your guess (between 1 and 100): 55\n",
      "Too high! Try again.\n",
      "\n",
      "Enter your guess (between 1 and 100): 25\n",
      "Too low! Try again.\n",
      "\n",
      "Enter your guess (between 1 and 100): 35\n",
      "Too low! Try again.\n",
      "\n",
      "Enter your guess (between 1 and 100): 40\n",
      "Too low! Try again.\n",
      "\n",
      "Enter your guess (between 1 and 100): 45\n",
      "Too low! Try again.\n",
      "\n",
      "Enter your guess (between 1 and 100): 50\n",
      "Too low! Try again.\n",
      "\n",
      "Enter your guess (between 1 and 100): 52\n",
      "Too high! Try again.\n",
      "\n",
      "Enter your guess (between 1 and 100): 51\n",
      "Congratulations! You've guessed the number 51 correctly in 8 attempts!\n",
      "\n",
      "Do you want to play again? (yes/no): no\n",
      "Thank you for playing!\n"
     ]
    }
   ],
   "source": [
    "import random\n",
    "\n",
    "def number_guessing_game():\n",
    "    print(\"Welcome to the Number Guessing Game!\")\n",
    "    print(\"I have selected a random number between 1 and 100. Try to guess it!\")\n",
    "\n",
    "    secret_number = random.randint(1, 100)\n",
    "    attempts = 0\n",
    "\n",
    "    while True:\n",
    "        guess = input(\"\\nEnter your guess (between 1 and 100): \")\n",
    "\n",
    "        try:\n",
    "            guess = int(guess)\n",
    "        except ValueError:\n",
    "            print(\"Please enter a valid number.\")\n",
    "            continue\n",
    "\n",
    "        attempts += 1\n",
    "\n",
    "        if guess < secret_number:\n",
    "            print(\"Too low! Try again.\")\n",
    "        elif guess > secret_number:\n",
    "            print(\"Too high! Try again.\")\n",
    "        else:\n",
    "            print(f\"Congratulations! You've guessed the number {secret_number} correctly in {attempts} attempts!\")\n",
    "            break\n",
    "\n",
    "def main():\n",
    "    while True:\n",
    "        number_guessing_game()\n",
    "        play_again = input(\"\\nDo you want to play again? (yes/no): \").lower()\n",
    "        if play_again != \"yes\":\n",
    "            print(\"Thank you for playing!\")\n",
    "            break\n",
    "\n",
    "if __name__ == \"__main__\":\n",
    "    main()\n"
   ]
  },
  {
   "cell_type": "code",
   "execution_count": null,
   "id": "68c80efb",
   "metadata": {},
   "outputs": [],
   "source": []
  }
 ],
 "metadata": {
  "kernelspec": {
   "display_name": "Python 3 (ipykernel)",
   "language": "python",
   "name": "python3"
  },
  "language_info": {
   "codemirror_mode": {
    "name": "ipython",
    "version": 3
   },
   "file_extension": ".py",
   "mimetype": "text/x-python",
   "name": "python",
   "nbconvert_exporter": "python",
   "pygments_lexer": "ipython3",
   "version": "3.9.7"
  }
 },
 "nbformat": 4,
 "nbformat_minor": 5
}
